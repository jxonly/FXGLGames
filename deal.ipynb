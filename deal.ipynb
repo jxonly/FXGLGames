{
  "cells": [
    {
      "cell_type": "markdown",
      "metadata": {
        "id": "view-in-github",
        "colab_type": "text"
      },
      "source": [
        "<a href=\"https://colab.research.google.com/github/jxonly/FXGLGames/blob/master/deal.ipynb\" target=\"_parent\"><img src=\"https://colab.research.google.com/assets/colab-badge.svg\" alt=\"Open In Colab\"/></a>"
      ]
    },
    {
      "cell_type": "code",
      "execution_count": 1,
      "id": "3ba5f51e",
      "metadata": {
        "ExecuteTime": {
          "end_time": "2021-11-22T09:01:09.825666Z",
          "start_time": "2021-11-22T09:01:09.820823Z"
        },
        "id": "3ba5f51e"
      },
      "outputs": [],
      "source": [
        "\n",
        "import json\n",
        "import re\n"
      ]
    },
    {
      "cell_type": "code",
      "execution_count": 2,
      "id": "5a357af7",
      "metadata": {
        "ExecuteTime": {
          "end_time": "2021-11-22T09:01:10.288044Z",
          "start_time": "2021-11-22T09:01:10.282526Z"
        },
        "code_folding": [],
        "id": "5a357af7"
      },
      "outputs": [],
      "source": [
        "def find_all(a_str, sub):\n",
        "    start = 0\n",
        "    while True:\n",
        "        start = a_str.find(sub, start)\n",
        "        if start == -1: return\n",
        "        yield (start, start+len(sub))\n",
        "        start += len(sub) # use start += 1 to find overlapping matches\n"
      ]
    },
    {
      "cell_type": "code",
      "execution_count": 3,
      "id": "142f28aa",
      "metadata": {
        "ExecuteTime": {
          "end_time": "2021-11-22T09:01:10.836109Z",
          "start_time": "2021-11-22T09:01:10.826167Z"
        },
        "id": "142f28aa"
      },
      "outputs": [],
      "source": [
        "def read_load_data(data_path):\n",
        "\n",
        "# data_path = \"./cail_data.json\"\n",
        "    use_data = []\n",
        "    \n",
        "    with open(data_path, \"r\",encoding='utf-8') as f:\n",
        "        data = json.load(f)\n",
        "\n",
        "        for d_item in data['data']:\n",
        "            title = d_item['title']\n",
        "\n",
        "            for item in d_item['paragraphs']:\n",
        "\n",
        "                context = item['context']\n",
        "\n",
        "                qas = []\n",
        "\n",
        "                for q_item in item['qas']:\n",
        "\n",
        "                    question=q_item['question']\n",
        "\n",
        "                    is_impossible=False\n",
        "\n",
        "                    if len(q_item['answers']) == 0:\n",
        "                        is_impossible = True\n",
        "\n",
        "                    if not is_impossible:\n",
        "                        answer = q_item['answers'][0]['text']\n",
        "                        answer_start = q_item['answers'][0]['answer_start']\n",
        "                        \n",
        "                        if len(q_item['answers']) > 1:\n",
        "                            print(q_item['answers'])\n",
        "\n",
        "                        answer_offest = []\n",
        "\n",
        "                        if answer_start != -1:\n",
        "                            assert context[answer_start:answer_start+len(answer)] == answer\n",
        "\n",
        "                            for span in find_all(context, answer):\n",
        "                                answer_offest.append(span)\n",
        "\n",
        "                        qas.append({\n",
        "                            'question': question,\n",
        "                            'answer': answer,\n",
        "                            'answer_offest': answer_offest,\n",
        "                            'is_impossible': is_impossible,\n",
        "                        }) \n",
        "\n",
        "                    else:\n",
        "                        qas.append({\n",
        "                            'question': question,\n",
        "                            'answer': \"\",\n",
        "                            'answer_offest': [],\n",
        "                            'is_impossible': is_impossible,\n",
        "                        })\n",
        "\n",
        "                use_data.append({\n",
        "                    \"title\": title,\n",
        "                    \"context\": context,\n",
        "                    \"qas\": qas\n",
        "                })\n",
        "                \n",
        "    return use_data"
      ]
    },
    {
      "cell_type": "code",
      "execution_count": 4,
      "id": "d14d9351",
      "metadata": {
        "ExecuteTime": {
          "end_time": "2021-11-22T09:01:26.172666Z",
          "start_time": "2021-11-22T09:01:11.442177Z"
        },
        "id": "d14d9351"
      },
      "outputs": [],
      "source": [
        "import os\n",
        "from tqdm.notebook import tqdm\n",
        "\n",
        "all_data = []\n",
        "all_data.extend(read_load_data(\"/content/data/dureader_data.json\"))\n",
        "\n",
        "\n",
        "            \n"
      ]
    },
    {
      "cell_type": "code",
      "source": [
        "#all_data_test = []\n",
        "with open(\"/content/data_orgin/me_test.ir.json\",\"r\",encoding='utf-8')as f:\n",
        "  all_data_test = json.load(f)\n"
      ],
      "metadata": {
        "id": "ZFxSWnwP_a3G"
      },
      "id": "ZFxSWnwP_a3G",
      "execution_count": null,
      "outputs": []
    },
    {
      "cell_type": "code",
      "execution_count": 5,
      "id": "cedf179f",
      "metadata": {
        "colab": {
          "base_uri": "https://localhost:8080/"
        },
        "id": "cedf179f",
        "outputId": "71a5f410-a653-4d07-f468-281ff37087ce"
      },
      "outputs": [
        {
          "output_type": "execute_result",
          "data": {
            "text/plain": [
              "42901"
            ]
          },
          "metadata": {},
          "execution_count": 5
        }
      ],
      "source": [
        "len(all_data)"
      ]
    },
    {
      "cell_type": "code",
      "source": [
        "all_data[4998]"
      ],
      "metadata": {
        "colab": {
          "base_uri": "https://localhost:8080/"
        },
        "id": "vej_TFEI9o3e",
        "outputId": "37fe594f-d973-4a59-ebed-516d87a4e2ac"
      },
      "id": "vej_TFEI9o3e",
      "execution_count": null,
      "outputs": [
        {
          "output_type": "execute_result",
          "data": {
            "text/plain": [
              "{'context': ' 【政策依据】 《财政部税务总局关于支持新型冠状病毒感染的肺炎疫情防控有关个人所得税政策的公告》（2020年第10号） 2.个人取得单位发放的预防新型冠状病毒感染肺炎的医药防护用品等免征个人所得税 【享受主体】 取得单位发放的用于预防新型冠状病毒感染的肺炎的药品、医疗用品和防护用品等实物（不包括现金）的个人 【优惠内容】 自2020年1月1日起，单位发给个人用于预防新型冠状病毒感染的肺炎的药品、医疗用品和防护用品等实物（不包括现金），不计入工资、薪金收入，免征个人所得税。 上述优惠政策适用的截止日期将视疫情情况另行公告。 【政策依据】 《财政部税务总局关于支持新型冠状病毒感染的肺炎疫情防控有关个人所得税政策的公告》（2020年第10号） 二、支持物资供应 3.对疫情防控重点保障物资生产企业全额退还增值税增量留抵税额 【享受主体】 疫情防控重点保障物资生产企业 【优惠内容】 自2020年1月1日起，疫情防控重点保障物资生产企业可以按月向主管税务机关申请全额退还增值税增量留抵税额。增量留抵税额，是指与2019年12月底相比新增加的期末留抵税额。 疫情防控重点保障物资生产企业名单，由省级及省级以上发展改革部门、工业和信息化部门确定。',\n",
              " 'qas': [{'answer': '全额退还增值税增量留抵税额',\n",
              "   'answer_offest': [(349, 362), (431, 444)],\n",
              "   'is_impossible': False,\n",
              "   'question': '2020年2月，云南省财税部门联合发布系列公告中对疫情防控重点保障物资生产企业有什么税收优惠？'}],\n",
              " 'title': ''}"
            ]
          },
          "metadata": {},
          "execution_count": 42
        }
      ]
    },
    {
      "cell_type": "code",
      "execution_count": 10,
      "id": "d24b9d5d",
      "metadata": {
        "colab": {
          "base_uri": "https://localhost:8080/"
        },
        "id": "d24b9d5d",
        "outputId": "8f080530-2b4e-4fcf-c008-a335ff5bdc99"
      },
      "outputs": [
        {
          "output_type": "stream",
          "name": "stdout",
          "text": [
            "15779\n"
          ]
        },
        {
          "output_type": "execute_result",
          "data": {
            "text/plain": [
              "{'context': '松下FH1采用金属机身，运用了独特的磨砂工艺处理，较其它相机耐磨性更强。',\n",
              " 'qas': [{'answer': '松下FH1采用金属机身，运用了独特的磨砂工艺处理，较其它相机耐磨性更强。',\n",
              "   'answer_offest': [(0, 36)],\n",
              "   'is_impossible': False,\n",
              "   'question': 'fh1是什么材质'}],\n",
              " 'title': ''}"
            ]
          },
          "metadata": {},
          "execution_count": 10
        }
      ],
      "source": [
        "index=0\n",
        "for i in range(len(all_data)):\n",
        "    if \"松下FH1\" in all_data[i]['context']:\n",
        "        print(i)\n",
        "        index = i\n",
        "      \n",
        "all_data[index]"
      ]
    },
    {
      "cell_type": "code",
      "source": [
        "dev1 = all_data[:417]\n",
        "train1 = all_data[417:15316]\n",
        "dev2 = all_data[15316:15780]\n",
        "train2 = all_data[15780:len(all_data)]\n"
      ],
      "metadata": {
        "id": "V_oEQ8fADBnn"
      },
      "id": "V_oEQ8fADBnn",
      "execution_count": 17,
      "outputs": []
    },
    {
      "cell_type": "code",
      "source": [
        "len(dev1),len(train1)"
      ],
      "metadata": {
        "colab": {
          "base_uri": "https://localhost:8080/"
        },
        "id": "ehzJsz0qEARn",
        "outputId": "700f4995-44b0-4079-9732-fc3d1c5c5c8d"
      },
      "id": "ehzJsz0qEARn",
      "execution_count": 20,
      "outputs": [
        {
          "output_type": "execute_result",
          "data": {
            "text/plain": [
              "(881, 42020)"
            ]
          },
          "metadata": {},
          "execution_count": 20
        }
      ]
    },
    {
      "cell_type": "code",
      "source": [
        "dev1.extend(dev2)\n",
        "train1.extend(train2)"
      ],
      "metadata": {
        "id": "EOL3mV2zEZRG"
      },
      "id": "EOL3mV2zEZRG",
      "execution_count": 19,
      "outputs": []
    },
    {
      "cell_type": "code",
      "source": [
        "train1[len(train1)-1]"
      ],
      "metadata": {
        "colab": {
          "base_uri": "https://localhost:8080/"
        },
        "id": "3VF6SonzErGO",
        "outputId": "2aaff2a8-f5b7-4727-8e40-c08be14c18d4"
      },
      "id": "3VF6SonzErGO",
      "execution_count": 23,
      "outputs": [
        {
          "output_type": "execute_result",
          "data": {
            "text/plain": [
              "{'context': '9路黑子有41颗，白子有40.\\n13路黑子85.白子84',\n",
              " 'qas': [{'answer': '9路黑子有41颗，白子有40.\\n13路黑子85.白子84',\n",
              "   'answer_offest': [(0, 28)],\n",
              "   'is_impossible': False,\n",
              "   'question': '围棋黑白子各多少'}],\n",
              " 'title': ''}"
            ]
          },
          "metadata": {},
          "execution_count": 23
        }
      ]
    },
    {
      "cell_type": "code",
      "execution_count": null,
      "id": "294b6d56",
      "metadata": {
        "id": "294b6d56"
      },
      "outputs": [],
      "source": [
        "all_data_train = all_data[:2403]\n",
        "all_data_dev = all_data[2403:3251]\n",
        "all_data_test = all_data[3251:len(all_data)]\n",
        "\n"
      ]
    },
    {
      "cell_type": "code",
      "execution_count": null,
      "id": "04cc88f2",
      "metadata": {
        "colab": {
          "base_uri": "https://localhost:8080/"
        },
        "id": "04cc88f2",
        "outputId": "c2b48e8d-ca44-4891-d50f-8fd80f6b517e"
      },
      "outputs": [
        {
          "output_type": "execute_result",
          "data": {
            "text/plain": [
              "(2403, 848, 256)"
            ]
          },
          "metadata": {},
          "execution_count": 32
        }
      ],
      "source": [
        "len(all_data_train),len(all_data_dev),len(all_data_test)"
      ]
    },
    {
      "cell_type": "code",
      "execution_count": null,
      "id": "0caf397d",
      "metadata": {
        "colab": {
          "base_uri": "https://localhost:8080/"
        },
        "id": "0caf397d",
        "outputId": "00f67d2a-c448-44f6-89b9-899d04475baa"
      },
      "outputs": [
        {
          "output_type": "execute_result",
          "data": {
            "text/plain": [
              "{'context': '《战国无双3》（）是由光荣和ω-force开发的战国无双系列的正统第三续作。本作以三大故事为主轴，分别是以武田信玄等人为主的《关东三国志》，织田信长等人为主的《战国三杰》，石田三成等人为主的《关原的年轻武者》，丰富游戏内的剧情。此部份专门介绍角色，欲知武器情报、奥义字或擅长攻击类型等，请至战国无双系列1.由于乡里大辅先生因故去世，不得不寻找其他声优接手。从猛将传 and Z开始。2.战国无双 编年史的原创男女主角亦有专属声优。此模式是任天堂游戏谜之村雨城改编的新增模式。本作中共有20张战场地图（不含村雨城），后来发行的猛将传再新增3张战场地图。但游戏内战役数量繁多，部分地图会有兼用的状况，战役虚实则是以光荣发行的2本「战国无双3 人物真书」内容为主，以下是相关介绍。（注：前方加☆者为猛将传新增关卡及地图。）合并本篇和猛将传的内容，村雨城模式剔除，战国史模式可直接游玩。主打两大模式「战史演武」&「争霸演武」。系列作品外传作品',\n",
              " 'qas': [{'answer': '光荣和ω-force',\n",
              "   'answer_offest': [(11, 21)],\n",
              "   'is_impossible': False,\n",
              "   'question': '《战国无双3》是由哪两个公司合作开发的？'},\n",
              "  {'answer': '村雨城',\n",
              "   'answer_offest': [(226, 229), (252, 255), (370, 373)],\n",
              "   'is_impossible': False,\n",
              "   'question': '男女主角亦有专属声优这一模式是由谁改编的？'},\n",
              "  {'answer': '「战史演武」&「争霸演武」',\n",
              "   'answer_offest': [(395, 408)],\n",
              "   'is_impossible': False,\n",
              "   'question': '战国史模式主打哪两个模式？'}],\n",
              " 'title': ''}"
            ]
          },
          "metadata": {},
          "execution_count": 35
        }
      ],
      "source": [
        "all_data_dev[0]"
      ]
    },
    {
      "cell_type": "code",
      "execution_count": 25,
      "id": "fc879c73",
      "metadata": {
        "ExecuteTime": {
          "end_time": "2021-11-22T09:01:35.966510Z",
          "start_time": "2021-11-22T09:01:29.690412Z"
        },
        "colab": {
          "base_uri": "https://localhost:8080/",
          "height": 49,
          "referenced_widgets": [
            "3e90623e059c4a6a9c6dd22813e2d725",
            "5c4e6351381d40bdb62f29d60baf16dd",
            "8a78b65f284b4374a9a2ff449e4549f5",
            "1b10ae850e2d4c12988cb12303da5cde",
            "d0a83ebf57f04472bfaae9438ab3815c",
            "3c402aa417af47a18520824bf5ac2dbe",
            "c91795885d33427090685875cb617975",
            "1579c09aa9934d7b8df550dd108adff6",
            "b7cbe95ef04e46fab0a8528231b9c8f6",
            "2c3f513d227849b39ac1e10dd62001a1",
            "86750abf3d1542e49b65991d87aa5264"
          ]
        },
        "id": "fc879c73",
        "outputId": "09237bd4-3f40-4597-8a81-ef3a6b5243ef"
      },
      "outputs": [
        {
          "output_type": "display_data",
          "data": {
            "text/plain": [
              "  0%|          | 0/881 [00:00<?, ?it/s]"
            ],
            "application/vnd.jupyter.widget-view+json": {
              "version_major": 2,
              "version_minor": 0,
              "model_id": "3e90623e059c4a6a9c6dd22813e2d725"
            }
          },
          "metadata": {}
        }
      ],
      "source": [
        "save_path_train = \"/content/data/dureader_data-train.json\"\n",
        "save_path_dev = \"/content/data/dureader_data-dev.json\"\n",
        "save_path_test =\"/content/data/cmrc_data-trial.json\"\n",
        "with open(save_path_dev, \"w\",encoding='utf-8') as f:\n",
        "    for item in tqdm(dev1):\n",
        "        \n",
        "        f.write(json.dumps(item, ensure_ascii=False))\n",
        "        f.write(\"\\n\")\n",
        "        "
      ]
    },
    {
      "cell_type": "code",
      "execution_count": null,
      "id": "cbb32692",
      "metadata": {
        "id": "cbb32692"
      },
      "outputs": [],
      "source": [
        ""
      ]
    },
    {
      "cell_type": "code",
      "source": [
        "from google.colab import drive\n",
        "drive.mount('/content/drive')"
      ],
      "metadata": {
        "id": "_lGXtb3rNCpd",
        "colab": {
          "base_uri": "https://localhost:8080/"
        },
        "outputId": "add52285-e2b6-432c-f7ad-55c438e20249"
      },
      "id": "_lGXtb3rNCpd",
      "execution_count": 26,
      "outputs": [
        {
          "output_type": "stream",
          "name": "stdout",
          "text": [
            "Mounted at /content/drive\n"
          ]
        }
      ]
    },
    {
      "cell_type": "code",
      "execution_count": null,
      "id": "92439bc0",
      "metadata": {
        "id": "92439bc0",
        "colab": {
          "base_uri": "https://localhost:8080/"
        },
        "outputId": "d3145a7a-5fcb-4324-f9b7-4c2df3a481c3"
      },
      "outputs": [
        {
          "output_type": "stream",
          "name": "stdout",
          "text": [
            "Looking in indexes: https://pypi.org/simple, https://us-python.pkg.dev/colab-wheels/public/simple/\n",
            "Collecting ijson\n",
            "  Downloading ijson-3.1.4-cp37-cp37m-manylinux2010_x86_64.whl (126 kB)\n",
            "\u001b[K     |████████████████████████████████| 126 kB 24.2 MB/s \n",
            "\u001b[?25hInstalling collected packages: ijson\n",
            "Successfully installed ijson-3.1.4\n"
          ]
        }
      ],
      "source": [
        "!pip install ijson"
      ]
    },
    {
      "cell_type": "code",
      "execution_count": null,
      "id": "2de5ac17",
      "metadata": {
        "id": "2de5ac17"
      },
      "outputs": [],
      "source": [
        "import ijson"
      ]
    },
    {
      "cell_type": "code",
      "source": [
        ""
      ],
      "metadata": {
        "id": "8OmkHQCvgtyb"
      },
      "id": "8OmkHQCvgtyb",
      "execution_count": null,
      "outputs": []
    }
  ],
  "metadata": {
    "kernelspec": {
      "display_name": "Python 3",
      "language": "python",
      "name": "python3"
    },
    "language_info": {
      "codemirror_mode": {
        "name": "ipython",
        "version": 3
      },
      "file_extension": ".py",
      "mimetype": "text/x-python",
      "name": "python",
      "nbconvert_exporter": "python",
      "pygments_lexer": "ipython3",
      "version": "3.6.9"
    },
    "colab": {
      "name": "deal.ipynb",
      "provenance": [],
      "collapsed_sections": [],
      "include_colab_link": true
    },
    "widgets": {
      "application/vnd.jupyter.widget-state+json": {
        "3e90623e059c4a6a9c6dd22813e2d725": {
          "model_module": "@jupyter-widgets/controls",
          "model_name": "HBoxModel",
          "model_module_version": "1.5.0",
          "state": {
            "_dom_classes": [],
            "_model_module": "@jupyter-widgets/controls",
            "_model_module_version": "1.5.0",
            "_model_name": "HBoxModel",
            "_view_count": null,
            "_view_module": "@jupyter-widgets/controls",
            "_view_module_version": "1.5.0",
            "_view_name": "HBoxView",
            "box_style": "",
            "children": [
              "IPY_MODEL_5c4e6351381d40bdb62f29d60baf16dd",
              "IPY_MODEL_8a78b65f284b4374a9a2ff449e4549f5",
              "IPY_MODEL_1b10ae850e2d4c12988cb12303da5cde"
            ],
            "layout": "IPY_MODEL_d0a83ebf57f04472bfaae9438ab3815c"
          }
        },
        "5c4e6351381d40bdb62f29d60baf16dd": {
          "model_module": "@jupyter-widgets/controls",
          "model_name": "HTMLModel",
          "model_module_version": "1.5.0",
          "state": {
            "_dom_classes": [],
            "_model_module": "@jupyter-widgets/controls",
            "_model_module_version": "1.5.0",
            "_model_name": "HTMLModel",
            "_view_count": null,
            "_view_module": "@jupyter-widgets/controls",
            "_view_module_version": "1.5.0",
            "_view_name": "HTMLView",
            "description": "",
            "description_tooltip": null,
            "layout": "IPY_MODEL_3c402aa417af47a18520824bf5ac2dbe",
            "placeholder": "​",
            "style": "IPY_MODEL_c91795885d33427090685875cb617975",
            "value": "100%"
          }
        },
        "8a78b65f284b4374a9a2ff449e4549f5": {
          "model_module": "@jupyter-widgets/controls",
          "model_name": "FloatProgressModel",
          "model_module_version": "1.5.0",
          "state": {
            "_dom_classes": [],
            "_model_module": "@jupyter-widgets/controls",
            "_model_module_version": "1.5.0",
            "_model_name": "FloatProgressModel",
            "_view_count": null,
            "_view_module": "@jupyter-widgets/controls",
            "_view_module_version": "1.5.0",
            "_view_name": "ProgressView",
            "bar_style": "success",
            "description": "",
            "description_tooltip": null,
            "layout": "IPY_MODEL_1579c09aa9934d7b8df550dd108adff6",
            "max": 881,
            "min": 0,
            "orientation": "horizontal",
            "style": "IPY_MODEL_b7cbe95ef04e46fab0a8528231b9c8f6",
            "value": 881
          }
        },
        "1b10ae850e2d4c12988cb12303da5cde": {
          "model_module": "@jupyter-widgets/controls",
          "model_name": "HTMLModel",
          "model_module_version": "1.5.0",
          "state": {
            "_dom_classes": [],
            "_model_module": "@jupyter-widgets/controls",
            "_model_module_version": "1.5.0",
            "_model_name": "HTMLModel",
            "_view_count": null,
            "_view_module": "@jupyter-widgets/controls",
            "_view_module_version": "1.5.0",
            "_view_name": "HTMLView",
            "description": "",
            "description_tooltip": null,
            "layout": "IPY_MODEL_2c3f513d227849b39ac1e10dd62001a1",
            "placeholder": "​",
            "style": "IPY_MODEL_86750abf3d1542e49b65991d87aa5264",
            "value": " 881/881 [00:00&lt;00:00, 11278.14it/s]"
          }
        },
        "d0a83ebf57f04472bfaae9438ab3815c": {
          "model_module": "@jupyter-widgets/base",
          "model_name": "LayoutModel",
          "model_module_version": "1.2.0",
          "state": {
            "_model_module": "@jupyter-widgets/base",
            "_model_module_version": "1.2.0",
            "_model_name": "LayoutModel",
            "_view_count": null,
            "_view_module": "@jupyter-widgets/base",
            "_view_module_version": "1.2.0",
            "_view_name": "LayoutView",
            "align_content": null,
            "align_items": null,
            "align_self": null,
            "border": null,
            "bottom": null,
            "display": null,
            "flex": null,
            "flex_flow": null,
            "grid_area": null,
            "grid_auto_columns": null,
            "grid_auto_flow": null,
            "grid_auto_rows": null,
            "grid_column": null,
            "grid_gap": null,
            "grid_row": null,
            "grid_template_areas": null,
            "grid_template_columns": null,
            "grid_template_rows": null,
            "height": null,
            "justify_content": null,
            "justify_items": null,
            "left": null,
            "margin": null,
            "max_height": null,
            "max_width": null,
            "min_height": null,
            "min_width": null,
            "object_fit": null,
            "object_position": null,
            "order": null,
            "overflow": null,
            "overflow_x": null,
            "overflow_y": null,
            "padding": null,
            "right": null,
            "top": null,
            "visibility": null,
            "width": null
          }
        },
        "3c402aa417af47a18520824bf5ac2dbe": {
          "model_module": "@jupyter-widgets/base",
          "model_name": "LayoutModel",
          "model_module_version": "1.2.0",
          "state": {
            "_model_module": "@jupyter-widgets/base",
            "_model_module_version": "1.2.0",
            "_model_name": "LayoutModel",
            "_view_count": null,
            "_view_module": "@jupyter-widgets/base",
            "_view_module_version": "1.2.0",
            "_view_name": "LayoutView",
            "align_content": null,
            "align_items": null,
            "align_self": null,
            "border": null,
            "bottom": null,
            "display": null,
            "flex": null,
            "flex_flow": null,
            "grid_area": null,
            "grid_auto_columns": null,
            "grid_auto_flow": null,
            "grid_auto_rows": null,
            "grid_column": null,
            "grid_gap": null,
            "grid_row": null,
            "grid_template_areas": null,
            "grid_template_columns": null,
            "grid_template_rows": null,
            "height": null,
            "justify_content": null,
            "justify_items": null,
            "left": null,
            "margin": null,
            "max_height": null,
            "max_width": null,
            "min_height": null,
            "min_width": null,
            "object_fit": null,
            "object_position": null,
            "order": null,
            "overflow": null,
            "overflow_x": null,
            "overflow_y": null,
            "padding": null,
            "right": null,
            "top": null,
            "visibility": null,
            "width": null
          }
        },
        "c91795885d33427090685875cb617975": {
          "model_module": "@jupyter-widgets/controls",
          "model_name": "DescriptionStyleModel",
          "model_module_version": "1.5.0",
          "state": {
            "_model_module": "@jupyter-widgets/controls",
            "_model_module_version": "1.5.0",
            "_model_name": "DescriptionStyleModel",
            "_view_count": null,
            "_view_module": "@jupyter-widgets/base",
            "_view_module_version": "1.2.0",
            "_view_name": "StyleView",
            "description_width": ""
          }
        },
        "1579c09aa9934d7b8df550dd108adff6": {
          "model_module": "@jupyter-widgets/base",
          "model_name": "LayoutModel",
          "model_module_version": "1.2.0",
          "state": {
            "_model_module": "@jupyter-widgets/base",
            "_model_module_version": "1.2.0",
            "_model_name": "LayoutModel",
            "_view_count": null,
            "_view_module": "@jupyter-widgets/base",
            "_view_module_version": "1.2.0",
            "_view_name": "LayoutView",
            "align_content": null,
            "align_items": null,
            "align_self": null,
            "border": null,
            "bottom": null,
            "display": null,
            "flex": null,
            "flex_flow": null,
            "grid_area": null,
            "grid_auto_columns": null,
            "grid_auto_flow": null,
            "grid_auto_rows": null,
            "grid_column": null,
            "grid_gap": null,
            "grid_row": null,
            "grid_template_areas": null,
            "grid_template_columns": null,
            "grid_template_rows": null,
            "height": null,
            "justify_content": null,
            "justify_items": null,
            "left": null,
            "margin": null,
            "max_height": null,
            "max_width": null,
            "min_height": null,
            "min_width": null,
            "object_fit": null,
            "object_position": null,
            "order": null,
            "overflow": null,
            "overflow_x": null,
            "overflow_y": null,
            "padding": null,
            "right": null,
            "top": null,
            "visibility": null,
            "width": null
          }
        },
        "b7cbe95ef04e46fab0a8528231b9c8f6": {
          "model_module": "@jupyter-widgets/controls",
          "model_name": "ProgressStyleModel",
          "model_module_version": "1.5.0",
          "state": {
            "_model_module": "@jupyter-widgets/controls",
            "_model_module_version": "1.5.0",
            "_model_name": "ProgressStyleModel",
            "_view_count": null,
            "_view_module": "@jupyter-widgets/base",
            "_view_module_version": "1.2.0",
            "_view_name": "StyleView",
            "bar_color": null,
            "description_width": ""
          }
        },
        "2c3f513d227849b39ac1e10dd62001a1": {
          "model_module": "@jupyter-widgets/base",
          "model_name": "LayoutModel",
          "model_module_version": "1.2.0",
          "state": {
            "_model_module": "@jupyter-widgets/base",
            "_model_module_version": "1.2.0",
            "_model_name": "LayoutModel",
            "_view_count": null,
            "_view_module": "@jupyter-widgets/base",
            "_view_module_version": "1.2.0",
            "_view_name": "LayoutView",
            "align_content": null,
            "align_items": null,
            "align_self": null,
            "border": null,
            "bottom": null,
            "display": null,
            "flex": null,
            "flex_flow": null,
            "grid_area": null,
            "grid_auto_columns": null,
            "grid_auto_flow": null,
            "grid_auto_rows": null,
            "grid_column": null,
            "grid_gap": null,
            "grid_row": null,
            "grid_template_areas": null,
            "grid_template_columns": null,
            "grid_template_rows": null,
            "height": null,
            "justify_content": null,
            "justify_items": null,
            "left": null,
            "margin": null,
            "max_height": null,
            "max_width": null,
            "min_height": null,
            "min_width": null,
            "object_fit": null,
            "object_position": null,
            "order": null,
            "overflow": null,
            "overflow_x": null,
            "overflow_y": null,
            "padding": null,
            "right": null,
            "top": null,
            "visibility": null,
            "width": null
          }
        },
        "86750abf3d1542e49b65991d87aa5264": {
          "model_module": "@jupyter-widgets/controls",
          "model_name": "DescriptionStyleModel",
          "model_module_version": "1.5.0",
          "state": {
            "_model_module": "@jupyter-widgets/controls",
            "_model_module_version": "1.5.0",
            "_model_name": "DescriptionStyleModel",
            "_view_count": null,
            "_view_module": "@jupyter-widgets/base",
            "_view_module_version": "1.2.0",
            "_view_name": "StyleView",
            "description_width": ""
          }
        }
      }
    }
  },
  "nbformat": 4,
  "nbformat_minor": 5
}